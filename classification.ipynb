{
  "nbformat": 4,
  "nbformat_minor": 0,
  "metadata": {
    "colab": {
      "name": "classification.ipynb",
      "private_outputs": true,
      "provenance": [],
      "collapsed_sections": [],
      "authorship_tag": "ABX9TyMquYcZ7/PwQZjWLkjMgrVi",
      "include_colab_link": true
    },
    "kernelspec": {
      "name": "python3",
      "display_name": "Python 3"
    },
    "accelerator": "GPU"
  },
  "cells": [
    {
      "cell_type": "markdown",
      "metadata": {
        "id": "view-in-github",
        "colab_type": "text"
      },
      "source": [
        "<a href=\"https://colab.research.google.com/github/VictorFu0717/ml0311/blob/main/classification.ipynb\" target=\"_parent\"><img src=\"https://colab.research.google.com/assets/colab-badge.svg\" alt=\"Open In Colab\"/></a>"
      ]
    },
    {
      "cell_type": "code",
      "metadata": {
        "id": "fLMQY29iu0QB"
      },
      "source": [
        "import pandas as pd\n",
        "from sklearn.datasets import load_iris\n",
        "iris = load_iris()\n",
        "df = pd.DataFrame(iris[\"data\"],\n",
        "                  columns = iris [\"feature_names\"])\n",
        "df[\"ans\"] = iris[\"target\"]\n",
        "df"
      ],
      "execution_count": null,
      "outputs": []
    },
    {
      "cell_type": "code",
      "metadata": {
        "id": "kHn8nvBzwelb"
      },
      "source": [
        "import numpy as np\n",
        "# numpy陣列處理套件\n",
        "from sklearn.model_selection import train_test_split\n",
        "# [題目90, 題目10, 答案90, 答案10] 隨機選出90%, 10%\n",
        "x_train, x_test, y_train, y_test = train_test_split(np.array(iris[\"data\"]),\n",
        "                                    np.array(iris[\"target\"]),\n",
        "                                    test_size = 0.1)\n",
        "# x_train, x_test, y_train, y_test"
      ],
      "execution_count": null,
      "outputs": []
    },
    {
      "cell_type": "code",
      "metadata": {
        "id": "FXfEkJrS0H3Y"
      },
      "source": [
        "from sklearn.tree import DecisionTreeClassifier \n",
        "clf = DecisionTreeClassifier(max_depth=2)\n",
        "#為了防止過擬合,最大深度調整為2\n",
        "clf.fit(x_train, y_train)"
      ],
      "execution_count": null,
      "outputs": []
    },
    {
      "cell_type": "code",
      "metadata": {
        "id": "9GHN72Bi0tus"
      },
      "source": [
        "import matplotlib.pyplot as plt\n",
        "from sklearn.tree import plot_tree\n",
        "# 將決策樹可視化\n",
        "plt.figure(figsize=(14, 14))\n",
        "plot_tree(clf, \n",
        "     feature_names=iris[\"feature_names\"], \n",
        "     class_names=iris[\"target_names\"], \n",
        "     filled=True)\n",
        "\n",
        "#gini(猜錯的機率)\n",
        "#決策樹的優點：可解釋性"
      ],
      "execution_count": null,
      "outputs": []
    },
    {
      "cell_type": "code",
      "metadata": {
        "id": "aTo7Mhx4DOgx"
      },
      "source": [
        "from sklearn.metrics import accuracy_score\n",
        "# 分類準確率分數\n",
        "pre = clf.predict( x_test)\n",
        "accuracy_score(pre, y_test)"
      ],
      "execution_count": null,
      "outputs": []
    }
  ]
}