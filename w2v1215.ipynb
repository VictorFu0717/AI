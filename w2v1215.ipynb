{
  "nbformat": 4,
  "nbformat_minor": 0,
  "metadata": {
    "colab": {
      "name": "w2v1215.ipynb",
      "private_outputs": true,
      "provenance": [],
      "include_colab_link": true
    },
    "kernelspec": {
      "name": "python3",
      "display_name": "Python 3"
    },
    "accelerator": "GPU"
  },
  "cells": [
    {
      "cell_type": "markdown",
      "metadata": {
        "id": "view-in-github",
        "colab_type": "text"
      },
      "source": [
        "<a href=\"https://colab.research.google.com/github/VictorFu0717/AI/blob/main/w2v1215.ipynb\" target=\"_parent\"><img src=\"https://colab.research.google.com/assets/colab-badge.svg\" alt=\"Open In Colab\"/></a>"
      ]
    },
    {
      "cell_type": "code",
      "metadata": {
        "id": "Ge4f5XPOIIi3"
      },
      "source": [
        "from urllib.request import urlretrieve\n",
        "url = \"https://github.com/Elwing-Chou/mtkdl/raw/master/pttexsmall.csv\"\n",
        "urlretrieve(url, \"ptt.csv\")"
      ],
      "execution_count": null,
      "outputs": []
    },
    {
      "cell_type": "code",
      "metadata": {
        "id": "9FhCzzsAIURD"
      },
      "source": [
        "import jieba\n",
        "\n",
        "url = \"https://github.com/fxsjy/jieba/raw/master/extra_dict/dict.txt.big\"\n",
        "urlretrieve(url, \"dict.big\")\n",
        "url = \"https://github.com/Elwing-Chou/mtkdl/raw/master/ptt_dic.txt\"\n",
        "urlretrieve(url, \"dict.ptt\")\n",
        "\n",
        "jieba.set_dictionary(\"dict.big\")\n",
        "jieba.load_userdict(\"dict.ptt\")"
      ],
      "execution_count": null,
      "outputs": []
    },
    {
      "cell_type": "code",
      "metadata": {
        "id": "QyyHK9djZnn8"
      },
      "source": [
        "import pandas as pd\n",
        "df = pd.read_csv(\"ptt.csv\", encoding=\"utf-8\")\n",
        "df"
      ],
      "execution_count": null,
      "outputs": []
    },
    {
      "cell_type": "code",
      "metadata": {
        "id": "CPD6UJ70bnOb"
      },
      "source": [
        "#去除https跟標點符號\n",
        "import re\n",
        "def process(content):\n",
        "    content = re.sub(r'https?:\\/\\/.*[\\r\\n]*', '', content)\n",
        "    punct = set(u''':!),.:;?]}¢'\"、。〉》」』】〕〗〞︰︱︳﹐､﹒﹔﹕﹖﹗﹚﹜﹞！），．：；？｜｝︴︶︸︺︼︾﹀﹂﹄﹏､～￠々‖•·ˇˉ―--′’”([{£¥'\"‵〈《「『【〔〖（［｛￡￥〝︵︷︹︻︽︿﹁﹃﹙﹛﹝（｛“‘-—_…~/ －＊➜■─★☆=@<>◉é''')\n",
        "    cut = filter(lambda x: x not in punct, jieba.cut(content))\n",
        "    return \" \".join(cut)\n",
        "df[\"content\"] = df[\"content\"].apply(process)\n",
        "df"
      ],
      "execution_count": null,
      "outputs": []
    },
    {
      "cell_type": "code",
      "metadata": {
        "id": "TMxnkpcZd0ZC"
      },
      "source": [
        "with open(\"lines.txt\", \"w\", encoding=\"utf-8\") as f:\n",
        "    for content in df[\"content\"]:\n",
        "        f.write(content)\n",
        "        f.write(\"\\n\")"
      ],
      "execution_count": null,
      "outputs": []
    },
    {
      "cell_type": "code",
      "metadata": {
        "id": "CFxhJJ19gd44"
      },
      "source": [
        "from gensim.models.word2vec import LineSentence\n",
        "from gensim.models.word2vec import Word2Vec\n",
        "sentences = LineSentence(\"lines.txt\")\n",
        "model = Word2Vec(sentences)"
      ],
      "execution_count": null,
      "outputs": []
    },
    {
      "cell_type": "code",
      "metadata": {
        "id": "HEWV-vW8iI3R"
      },
      "source": [
        "# model.wv.vocab\n",
        "model.wv[\"肥宅\"]\n",
        "# model.wv[\"Elwing\"]"
      ],
      "execution_count": null,
      "outputs": []
    },
    {
      "cell_type": "code",
      "metadata": {
        "id": "uoFn9OH91eVW"
      },
      "source": [
        "#找出相似詞\n",
        "model.wv.most_similar(\"肥宅\")"
      ],
      "execution_count": null,
      "outputs": []
    },
    {
      "cell_type": "code",
      "metadata": {
        "id": "GfuhpmP83K2L"
      },
      "source": [
        "#用tfidf再加權平均\n",
        "import numpy as np\n",
        "import jieba.analyse\n",
        "encodings = []\n",
        "for content in df[\"content\"]:\n",
        "    tags = jieba.analyse.extract_tags(content, \n",
        "                      topK=None, \n",
        "                      withWeight=True)\n",
        "    total = np.zeros((100, ))\n",
        "    weight = 0.0\n",
        "    for word, tfidf in tags:\n",
        "        if word in model.wv.vocab:\n",
        "            total = total + tfidf * model.wv[word]\n",
        "            weight = weight + tfidf\n",
        "    encodings.append(total / weight)\n",
        "print(len(encodings))"
      ],
      "execution_count": null,
      "outputs": []
    },
    {
      "cell_type": "code",
      "metadata": {
        "id": "KJFWK4cv6jiB"
      },
      "source": [
        "with open(\"ptt.wv\", \"w\", encoding=\"utf-8\") as f:\n",
        "    f.write(\"{} {}\\n\".format(20000, 100))\n",
        "    for i, wv in enumerate(encodings):\n",
        "        wv = \" \".join(map(str, wv))\n",
        "        f.write(\"{} {}\\n\".format(i, wv))"
      ],
      "execution_count": null,
      "outputs": []
    },
    {
      "cell_type": "code",
      "metadata": {
        "id": "fuafdxhg8R_s"
      },
      "source": [
        "from gensim.models import KeyedVectors\n",
        "d2v = KeyedVectors.load_word2vec_format(\"ptt.wv\")"
      ],
      "execution_count": null,
      "outputs": []
    },
    {
      "cell_type": "code",
      "metadata": {
        "id": "1MH64Xp-8VHU"
      },
      "source": [
        "tok = input(\"Enter(0-19999):\")\n",
        "data = df.iloc[int(tok)]\n",
        "print(\"標題:\", data[\"title\"])\n",
        "print(\"內容:\", data[\"content\"])\n",
        "print(\"-\" * 30)\n",
        "tok2, sim = d2v.most_similar(tok)[0]\n",
        "print(\"相似度:\", sim)\n",
        "data = df.iloc[int(tok2)]\n",
        "print(\"標題:\", data[\"title\"])\n",
        "print(\"內容:\", data[\"content\"])"
      ],
      "execution_count": null,
      "outputs": []
    }
  ]
}