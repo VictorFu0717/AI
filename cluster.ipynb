{
  "nbformat": 4,
  "nbformat_minor": 0,
  "metadata": {
    "colab": {
      "private_outputs": true,
      "provenance": [],
      "collapsed_sections": [],
      "authorship_tag": "ABX9TyPevTSZ3NBFeQTkUYRYz/Pn",
      "include_colab_link": true
    },
    "kernelspec": {
      "name": "python3",
      "display_name": "Python 3"
    },
    "accelerator": "GPU"
  },
  "cells": [
    {
      "cell_type": "markdown",
      "metadata": {
        "id": "view-in-github",
        "colab_type": "text"
      },
      "source": [
        "<a href=\"https://colab.research.google.com/github/VictorFu0717/AI/blob/main/cluster.ipynb\" target=\"_parent\"><img src=\"https://colab.research.google.com/assets/colab-badge.svg\" alt=\"Open In Colab\"/></a>"
      ]
    },
    {
      "cell_type": "code",
      "metadata": {
        "id": "fLMQY29iu0QB"
      },
      "source": [
        "#分群：沒有答案,依照資料關聯度來分類\n",
        "import pandas as pd\n",
        "from sklearn.datasets import load_iris\n",
        "iris = load_iris()\n",
        "df = pd.DataFrame(iris[\"data\"],\n",
        "                  columns = iris [\"feature_names\"])\n",
        "df"
      ],
      "execution_count": null,
      "outputs": []
    },
    {
      "cell_type": "code",
      "metadata": {
        "id": "DUoeE2uA0rqj"
      },
      "source": [
        "from sklearn.cluster import KMeans\n",
        "cluster = KMeans(n_clusters=3)\n",
        "cluster.fit(iris[\"data\"])"
      ],
      "execution_count": null,
      "outputs": []
    },
    {
      "cell_type": "code",
      "metadata": {
        "id": "yCdB1Rf11SfN"
      },
      "source": [
        "cluster.labels_"
      ],
      "execution_count": null,
      "outputs": []
    },
    {
      "cell_type": "code",
      "metadata": {
        "id": "8CPB4sZ-NJrC"
      },
      "source": [
        "df[\"label\"] = cluster.labels_\n",
        "df"
      ],
      "execution_count": null,
      "outputs": []
    },
    {
      "cell_type": "code",
      "metadata": {
        "id": "nzR_MCPP1uf0"
      },
      "source": [
        "cluster.cluster_centers_\n",
        "#找出圓心,但是是虛擬的中心點"
      ],
      "execution_count": null,
      "outputs": []
    },
    {
      "cell_type": "code",
      "metadata": {
        "id": "gwqwe0bA49iF"
      },
      "source": [
        "import matplotlib.pyplot as plt\n",
        "import seaborn as sns\n",
        "#seaborn繪製散點圖\n",
        "sns.scatterplot(df[\"sepal length (cm)\"],\n",
        "        df[\"petal length (cm)\"],\n",
        "        hue=iris[\"target\"])\n",
        "#取pandas的dataform的每一行：df[\"名\"]\n",
        "#hue:加上更多資訊,加上顏色劃分"
      ],
      "execution_count": null,
      "outputs": []
    },
    {
      "cell_type": "code",
      "metadata": {
        "id": "CR2A7LMFKafJ"
      },
      "source": [
        "#親疏程度 silhouette score 介於0~1 , 1是最好\n",
        "from sklearn.metrics import silhouette_score\n",
        "for k in range(2, 10):\n",
        "    test = KMeans(n_clusters=k)\n",
        "    test.fit(iris[\"data\"])\n",
        "    print(\"k:\",k)\n",
        "    score = silhouette_score(iris[\"data\"], test.labels_)\n",
        "    print(\"score:\", score)\n",
        "#這裡的k代表分成幾群"
      ],
      "execution_count": null,
      "outputs": []
    }
  ]
}