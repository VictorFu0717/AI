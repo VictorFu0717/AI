{
  "nbformat": 4,
  "nbformat_minor": 0,
  "metadata": {
    "colab": {
      "private_outputs": true,
      "provenance": [],
      "authorship_tag": "ABX9TyMNDm9mdZTtc/StmMvAeA6N",
      "include_colab_link": true
    },
    "kernelspec": {
      "name": "python3",
      "display_name": "Python 3"
    },
    "accelerator": "GPU"
  },
  "cells": [
    {
      "cell_type": "markdown",
      "metadata": {
        "id": "view-in-github",
        "colab_type": "text"
      },
      "source": [
        "<a href=\"https://colab.research.google.com/github/VictorFu0717/AI/blob/main/poem.ipynb\" target=\"_parent\"><img src=\"https://colab.research.google.com/assets/colab-badge.svg\" alt=\"Open In Colab\"/></a>"
      ]
    },
    {
      "cell_type": "code",
      "metadata": {
        "id": "qsWeu7_Mmv-Z"
      },
      "source": [
        "from urllib.request import urlretrieve\n",
        "url = \"https://github.com/Elwing-Chou/ml0223/raw/main/poem_train.csv\"\n",
        "urlretrieve(url, \"train.csv\")\n",
        "url = \"https://github.com/Elwing-Chou/ml0223/raw/main/poem_test.csv\"\n",
        "urlretrieve(url, \"test.csv\")"
      ],
      "execution_count": null,
      "outputs": []
    },
    {
      "cell_type": "code",
      "metadata": {
        "id": "ALlBuLQxpgGX"
      },
      "source": [
        "import pandas as pd\n",
        "train_df = pd.read_csv(\"train.csv\", encoding = \"utf-8\")\n",
        "test_df = pd.read_csv(\"test.csv\", encoding = \"utf-8\")\n",
        "\n",
        "#這裡不載入大辭典,是因為已經試過,分詞的效果沒有比較好"
      ],
      "execution_count": null,
      "outputs": []
    },
    {
      "cell_type": "code",
      "metadata": {
        "id": "pzqepzFqtMBF"
      },
      "source": [
        "test_df"
      ],
      "execution_count": null,
      "outputs": []
    },
    {
      "cell_type": "code",
      "metadata": {
        "id": "lEj8uvKmtQU-"
      },
      "source": [
        "# 拿出一列用series(一維),印出表格才用dataframe(二維)\n",
        "# Series.replace({\"原本\":\"改成\"})\n",
        "# Series.unique 將重複的去除掉只留下一個/ value_counts數次數 \n",
        "u = train_df[\"作者\"].unique()\n",
        "name2cat = {name:i for i, name in enumerate(u)}\n",
        "cat2name = {i:name for i, name in enumerate(u)}\n",
        "# 準備反向字典\n",
        "y_train = train_df[\"作者\"].replace(name2cat)\n",
        "y_test = test_df[\"作者\"].replace(name2cat)\n",
        "y_test\n",
        "name2cat"
      ],
      "execution_count": null,
      "outputs": []
    },
    {
      "cell_type": "code",
      "metadata": {
        "id": "htf2ZwM2xT6G"
      },
      "source": [
        "# print():  print代表一堆步驟 ,後面加（）才代表執行\n",
        "\n",
        "a = int\n",
        "a(5.2)\n",
        "\n",
        "def test():\n",
        "  return int\n",
        "test()(5.3)"
      ],
      "execution_count": null,
      "outputs": []
    },
    {
      "cell_type": "code",
      "metadata": {
        "id": "Pu3Omw1J3uWk"
      },
      "source": [
        "# Series.apply(func)\n",
        "import jieba\n",
        "def poemcut(p):\n",
        "    return \" \".join(jieba.cut(p))\n",
        "x_train = train_df[\"內容\"].apply(poemcut)\n",
        "x_test = test_df[\"內容\"].apply(poemcut)\n",
        "x_test"
      ],
      "execution_count": null,
      "outputs": []
    },
    {
      "cell_type": "code",
      "metadata": {
        "id": "QM71gi-255ez"
      },
      "source": [
        "#fit只做學習 transform才是對資料一最大值最小值做縮放\n",
        "#如果測試資料的詞沒有在訓練資料內,直接忽略\n",
        "\n",
        "from sklearn.feature_extraction.text import CountVectorizer\n",
        "vec = CountVectorizer()\n",
        "x_train_count = vec.fit_transform(x_train)\n",
        "x_test_count = vec.transform(x_test)"
      ],
      "execution_count": null,
      "outputs": []
    },
    {
      "cell_type": "code",
      "metadata": {
        "id": "kh7_Lw1q-fH-"
      },
      "source": [
        "vec.vocabulary_\n",
        "x_train_count\n",
        "#產生2731x52294的矩陣,這裡的矩陣是'稀疏矩陣',值為0不儲存\n",
        "\n"
      ],
      "execution_count": null,
      "outputs": []
    },
    {
      "cell_type": "code",
      "metadata": {
        "id": "eM2FBE5TayuG"
      },
      "source": [
        "from sklearn.naive_bayes import MultinomialNB\n",
        "clf = MultinomialNB(alpha=0.01)\n",
        "clf.fit(x_train_count, y_train)\n",
        "\n",
        "#alpha是給每個欄位一個保底的次數,為了避開最後算出的機率為0或100"
      ],
      "execution_count": null,
      "outputs": []
    },
    {
      "cell_type": "code",
      "metadata": {
        "id": "EY3Z7jMka4wr"
      },
      "source": [
        "from sklearn.metrics import accuracy_score\n",
        "pre = clf.predict(x_test_count)\n",
        "accuracy_score(pre, y_test)"
      ],
      "execution_count": null,
      "outputs": []
    },
    {
      "cell_type": "code",
      "metadata": {
        "id": "wmeO54pbeE_r"
      },
      "source": [
        "from sklearn.metrics import confusion_matrix\n",
        "mat = confusion_matrix(y_test, pre)\n",
        "pd.DataFrame(mat,\n",
        "      index=[name + \"(原本)\" for name in u],\n",
        "      columns=[name + \"(預測)\" for name in u])   "
      ],
      "execution_count": null,
      "outputs": []
    },
    {
      "cell_type": "code",
      "metadata": {
        "id": "TkS6lEfxhIe2"
      },
      "source": [
        "p = input(\"write:\")\n",
        "test = vec.transform([poemcut(p)])\n",
        "prob = clf.predict_proba(test)[0]\n",
        "for i in range(len(u)):\n",
        "    print(u[i], \"的機率:\", round(prob[i], 3))"
      ],
      "execution_count": null,
      "outputs": []
    },
    {
      "cell_type": "code",
      "metadata": {
        "id": "pIyRrKYjcZeF"
      },
      "source": [
        "from google.colab import drive\n",
        "drive.mount('/content/drive')"
      ],
      "execution_count": null,
      "outputs": []
    }
  ]
}