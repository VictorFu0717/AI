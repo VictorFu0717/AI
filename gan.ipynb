{
  "nbformat": 4,
  "nbformat_minor": 0,
  "metadata": {
    "colab": {
      "name": "gan.ipynb",
      "provenance": [],
      "collapsed_sections": [],
      "authorship_tag": "ABX9TyOAzlAfB/nFz7eGFOHoUi82",
      "include_colab_link": true
    },
    "kernelspec": {
      "name": "python3",
      "display_name": "Python 3"
    },
    "language_info": {
      "name": "python"
    },
    "accelerator": "GPU"
  },
  "cells": [
    {
      "cell_type": "markdown",
      "metadata": {
        "id": "view-in-github",
        "colab_type": "text"
      },
      "source": [
        "<a href=\"https://colab.research.google.com/github/VictorFu0717/AI/blob/main/gan.ipynb\" target=\"_parent\"><img src=\"https://colab.research.google.com/assets/colab-badge.svg\" alt=\"Open In Colab\"/></a>"
      ]
    },
    {
      "cell_type": "code",
      "metadata": {
        "id": "-HWrpXPGQVmj"
      },
      "source": [
        "# 利用另外一個神經網路當作loss function回頭調整\n",
        "# 反向神經（創作Generator） + 正向神經（鑑賞Discriminator:輸出0/1）\n",
        "\n",
        "# 訓練\n",
        "# 1.訓練Discriminator\n",
        "#   1:真:mnist  0:假:Generator\n",
        "# 2.訓練Generator(Discriminator:固定參數)\n",
        "#   out:1"
      ],
      "execution_count": null,
      "outputs": []
    },
    {
      "cell_type": "code",
      "metadata": {
        "colab": {
          "base_uri": "https://localhost:8080/"
        },
        "id": "7yr1XDbTgJX3",
        "outputId": "07147a38-6b17-4d67-ca69-49d5044c30f7"
      },
      "source": [
        "from tensorflow.keras.datasets.mnist import load_data\n",
        "(x_train, y_train), (x_test, y_test) = load_data()"
      ],
      "execution_count": null,
      "outputs": [
        {
          "output_type": "stream",
          "name": "stdout",
          "text": [
            "Downloading data from https://storage.googleapis.com/tensorflow/tf-keras-datasets/mnist.npz\n",
            "11493376/11490434 [==============================] - 0s 0us/step\n",
            "11501568/11490434 [==============================] - 0s 0us/step\n"
          ]
        }
      ]
    },
    {
      "cell_type": "code",
      "metadata": {
        "colab": {
          "base_uri": "https://localhost:8080/"
        },
        "id": "PQjhUEc5gfbq",
        "outputId": "0762c3b7-a7c9-4384-f04a-fd1311c78b88"
      },
      "source": [
        "from tensorflow.keras.models import Sequential\n",
        "from tensorflow.keras.layers import Dense, Dropout\n",
        "layers = [\n",
        "    Dense(64, activation=\"relu\", input_dim=784),\n",
        "    Dropout(0.25),\n",
        "    Dense(1, activation=\"sigmoid\")\n",
        "]\n",
        "dis = Sequential(layers)\n",
        "dis.summary()"
      ],
      "execution_count": null,
      "outputs": [
        {
          "output_type": "stream",
          "name": "stdout",
          "text": [
            "Model: \"sequential\"\n",
            "_________________________________________________________________\n",
            " Layer (type)                Output Shape              Param #   \n",
            "=================================================================\n",
            " dense (Dense)               (None, 64)                50240     \n",
            "                                                                 \n",
            " dropout (Dropout)           (None, 64)                0         \n",
            "                                                                 \n",
            " dense_1 (Dense)             (None, 1)                 65        \n",
            "                                                                 \n",
            "=================================================================\n",
            "Total params: 50,305\n",
            "Trainable params: 50,305\n",
            "Non-trainable params: 0\n",
            "_________________________________________________________________\n"
          ]
        }
      ]
    },
    {
      "cell_type": "code",
      "metadata": {
        "colab": {
          "base_uri": "https://localhost:8080/"
        },
        "id": "uJoDGPi4gkOV",
        "outputId": "bf72bad6-1366-43ed-d671-cd34d014e777"
      },
      "source": [
        "from tensorflow.keras.layers import BatchNormalization\n",
        "#模擬靈感，再慢慢擴大\n",
        "layers = [\n",
        "    Dense(256, activation=\"relu\", input_dim=100),\n",
        "    BatchNormalization(),\n",
        "    Dense(512, activation=\"relu\"),\n",
        "    BatchNormalization(),\n",
        "    Dense(784, activation=\"tanh\")\n",
        "]\n",
        "#tanh:類似sigmoid,但輸出是1 ~ -1\n",
        "gen = Sequential(layers)\n",
        "gen.summary()"
      ],
      "execution_count": null,
      "outputs": [
        {
          "output_type": "stream",
          "name": "stdout",
          "text": [
            "Model: \"sequential_1\"\n",
            "_________________________________________________________________\n",
            " Layer (type)                Output Shape              Param #   \n",
            "=================================================================\n",
            " dense_2 (Dense)             (None, 256)               25856     \n",
            "                                                                 \n",
            " batch_normalization (BatchN  (None, 256)              1024      \n",
            " ormalization)                                                   \n",
            "                                                                 \n",
            " dense_3 (Dense)             (None, 512)               131584    \n",
            "                                                                 \n",
            " batch_normalization_1 (Batc  (None, 512)              2048      \n",
            " hNormalization)                                                 \n",
            "                                                                 \n",
            " dense_4 (Dense)             (None, 784)               402192    \n",
            "                                                                 \n",
            "=================================================================\n",
            "Total params: 562,704\n",
            "Trainable params: 561,168\n",
            "Non-trainable params: 1,536\n",
            "_________________________________________________________________\n"
          ]
        }
      ]
    },
    {
      "cell_type": "code",
      "metadata": {
        "id": "6Ha5gmy8gvDO"
      },
      "source": [
        "from tensorflow.keras.losses import BinaryCrossentropy\n",
        "#compile確認loss\n",
        "dis.compile(loss=BinaryCrossentropy(),\n",
        "            optimizer=\"adam\")"
      ],
      "execution_count": null,
      "outputs": []
    },
    {
      "cell_type": "code",
      "metadata": {
        "colab": {
          "base_uri": "https://localhost:8080/"
        },
        "id": "PMAPmyKQgx7f",
        "outputId": "84226ffc-f5ca-4a09-9b76-6c15c5dabc61"
      },
      "source": [
        "from tensorflow.keras.models import Model\n",
        "dis.trainable = False\n",
        "out = dis(gen.output)\n",
        "gan = Model(gen.input, out)\n",
        "gan.summary()"
      ],
      "execution_count": null,
      "outputs": [
        {
          "output_type": "stream",
          "name": "stdout",
          "text": [
            "Model: \"model\"\n",
            "_________________________________________________________________\n",
            " Layer (type)                Output Shape              Param #   \n",
            "=================================================================\n",
            " dense_2_input (InputLayer)  [(None, 100)]             0         \n",
            "                                                                 \n",
            " dense_2 (Dense)             (None, 256)               25856     \n",
            "                                                                 \n",
            " batch_normalization (BatchN  (None, 256)              1024      \n",
            " ormalization)                                                   \n",
            "                                                                 \n",
            " dense_3 (Dense)             (None, 512)               131584    \n",
            "                                                                 \n",
            " batch_normalization_1 (Batc  (None, 512)              2048      \n",
            " hNormalization)                                                 \n",
            "                                                                 \n",
            " dense_4 (Dense)             (None, 784)               402192    \n",
            "                                                                 \n",
            " sequential (Sequential)     (None, 1)                 50305     \n",
            "                                                                 \n",
            "=================================================================\n",
            "Total params: 613,009\n",
            "Trainable params: 561,168\n",
            "Non-trainable params: 51,841\n",
            "_________________________________________________________________\n"
          ]
        }
      ]
    },
    {
      "cell_type": "code",
      "metadata": {
        "id": "1-iwuIZ-g1P5"
      },
      "source": [
        "gan.compile(loss=BinaryCrossentropy(),\n",
        "            optimizer=\"adam\")"
      ],
      "execution_count": null,
      "outputs": []
    },
    {
      "cell_type": "code",
      "metadata": {
        "id": "cNVQaIk2g4jU"
      },
      "source": [
        "x_train_norm = (x_train.reshape(60000, 784) - 127.5) / 127.5\n",
        "#變 -1 ~ 1"
      ],
      "execution_count": null,
      "outputs": []
    },
    {
      "cell_type": "code",
      "metadata": {
        "id": "4CPcWwBIg5kc"
      },
      "source": [
        "# batch=20\n",
        "import numpy as np\n",
        "valid = np.ones((20, )) \n",
        "fake = np.zeros((20, ))"
      ],
      "execution_count": null,
      "outputs": []
    },
    {
      "cell_type": "code",
      "metadata": {
        "colab": {
          "base_uri": "https://localhost:8080/"
        },
        "id": "Sk_CZEdQhC69",
        "outputId": "5bb5c3ae-0924-4e45-f583-8489acb95294"
      },
      "source": [
        "# 最終會進入NASH均衡，不會過擬合\n",
        "for i in range(100000):\n",
        "    # dis\n",
        "    idx = np.random.randint(0, 60000, size=20)\n",
        "    img = x_train_norm[idx]\n",
        "    r1 = dis.train_on_batch(img, valid)\n",
        "    #np.random.normal常態分佈：-1~1\n",
        "    rand = np.random.normal(size=(20, 100))\n",
        "    imgf = gen.predict(rand)\n",
        "    r2 = dis.train_on_batch(imgf, fake)\n",
        "    if i % 100 == 0:\n",
        "        print(\"dis loss:\", (r1 + r2) / 2)\n",
        "    # gen\n",
        "    rand = np.random.normal(size=(20, 100))\n",
        "    r3 = gan.train_on_batch(rand, valid)\n",
        "    #希望Generator最後往1靠攏\n",
        "    if i % 100 == 0:\n",
        "        print(\"gen loss:\", r3)"
      ],
      "execution_count": null,
      "outputs": [
        {
          "output_type": "stream",
          "name": "stdout",
          "text": [
            "dis loss: 0.5906134992837906\n",
            "gen loss: 0.5705960988998413\n",
            "dis loss: 0.1218931000912562\n",
            "gen loss: 1.2952829599380493\n",
            "dis loss: 0.04870376503095031\n",
            "gen loss: 3.670809268951416\n",
            "dis loss: 0.06510181352496147\n",
            "gen loss: 4.2268595695495605\n",
            "dis loss: 0.10992829874157906\n",
            "gen loss: 3.122138738632202\n",
            "dis loss: 0.09178859740495682\n",
            "gen loss: 4.190110206604004\n",
            "dis loss: 0.2143797129392624\n",
            "gen loss: 4.120495796203613\n",
            "dis loss: 0.1906973123550415\n",
            "gen loss: 3.467543840408325\n",
            "dis loss: 0.26996858417987823\n",
            "gen loss: 3.968109130859375\n",
            "dis loss: 0.300376832485199\n",
            "gen loss: 2.6096138954162598\n",
            "dis loss: 0.3453976511955261\n",
            "gen loss: 2.400423526763916\n",
            "dis loss: 0.36070507764816284\n",
            "gen loss: 3.5953211784362793\n",
            "dis loss: 0.3697751760482788\n",
            "gen loss: 1.9534950256347656\n",
            "dis loss: 0.3648844063282013\n",
            "gen loss: 2.5393104553222656\n",
            "dis loss: 0.39069461822509766\n",
            "gen loss: 2.3185465335845947\n",
            "dis loss: 0.5133068859577179\n",
            "gen loss: 1.7408382892608643\n",
            "dis loss: 0.38620467483997345\n",
            "gen loss: 3.0559334754943848\n",
            "dis loss: 0.3057970851659775\n",
            "gen loss: 1.6130125522613525\n",
            "dis loss: 0.3427383005619049\n",
            "gen loss: 1.6603240966796875\n",
            "dis loss: 0.6446337997913361\n",
            "gen loss: 1.4139893054962158\n",
            "dis loss: 0.45251166820526123\n",
            "gen loss: 2.280611515045166\n",
            "dis loss: 0.4752595126628876\n",
            "gen loss: 2.460768222808838\n",
            "dis loss: 0.3300177752971649\n",
            "gen loss: 2.5177125930786133\n",
            "dis loss: 0.3725167065858841\n",
            "gen loss: 1.2901631593704224\n",
            "dis loss: 0.3564327657222748\n",
            "gen loss: 1.9487636089324951\n",
            "dis loss: 0.37175174057483673\n",
            "gen loss: 1.8202342987060547\n",
            "dis loss: 0.46819931268692017\n",
            "gen loss: 2.0054073333740234\n",
            "dis loss: 0.2207292765378952\n",
            "gen loss: 2.8585762977600098\n",
            "dis loss: 0.5900814384222031\n",
            "gen loss: 1.455986499786377\n",
            "dis loss: 0.47949934005737305\n",
            "gen loss: 1.3512035608291626\n",
            "dis loss: 0.45348304510116577\n",
            "gen loss: 1.7112178802490234\n",
            "dis loss: 0.4755345731973648\n",
            "gen loss: 1.78548264503479\n",
            "dis loss: 0.5920668989419937\n",
            "gen loss: 1.089036464691162\n",
            "dis loss: 0.5760748386383057\n",
            "gen loss: 0.904366135597229\n",
            "dis loss: 0.4686006158590317\n",
            "gen loss: 2.368974447250366\n",
            "dis loss: 0.47547440230846405\n",
            "gen loss: 1.1968300342559814\n",
            "dis loss: 0.6083032339811325\n",
            "gen loss: 1.1469590663909912\n",
            "dis loss: 0.44042105972766876\n",
            "gen loss: 1.6949535608291626\n",
            "dis loss: 0.6533545553684235\n",
            "gen loss: 1.6281003952026367\n",
            "dis loss: 0.6381234228610992\n",
            "gen loss: 0.6638771295547485\n",
            "dis loss: 0.6063396036624908\n",
            "gen loss: 1.0941277742385864\n",
            "dis loss: 0.5902157425880432\n",
            "gen loss: 0.9320192337036133\n",
            "dis loss: 0.48697324097156525\n",
            "gen loss: 0.9888030290603638\n",
            "dis loss: 0.6030275225639343\n",
            "gen loss: 1.0152596235275269\n",
            "dis loss: 0.40283627808094025\n",
            "gen loss: 1.1209684610366821\n",
            "dis loss: 0.6682629585266113\n",
            "gen loss: 1.4062092304229736\n",
            "dis loss: 0.6693159937858582\n",
            "gen loss: 1.418363094329834\n",
            "dis loss: 0.5669582933187485\n",
            "gen loss: 1.0443644523620605\n",
            "dis loss: 0.46927161514759064\n",
            "gen loss: 1.1969504356384277\n",
            "dis loss: 0.4757714569568634\n",
            "gen loss: 1.5138089656829834\n",
            "dis loss: 0.514640673995018\n",
            "gen loss: 0.8197177052497864\n",
            "dis loss: 0.4887437969446182\n",
            "gen loss: 0.9259248971939087\n",
            "dis loss: 0.4494665265083313\n",
            "gen loss: 1.1863443851470947\n",
            "dis loss: 0.5966953188180923\n",
            "gen loss: 0.9563129544258118\n",
            "dis loss: 0.5567741990089417\n",
            "gen loss: 0.8055679202079773\n",
            "dis loss: 0.48814526200294495\n",
            "gen loss: 1.1404178142547607\n",
            "dis loss: 0.6368787884712219\n",
            "gen loss: 0.7761766314506531\n",
            "dis loss: 0.6522011756896973\n",
            "gen loss: 1.015151023864746\n",
            "dis loss: 0.6558740139007568\n",
            "gen loss: 0.7304155826568604\n",
            "dis loss: 0.6295130848884583\n",
            "gen loss: 1.0090157985687256\n",
            "dis loss: 0.6740273535251617\n",
            "gen loss: 0.8353732824325562\n",
            "dis loss: 0.617403507232666\n",
            "gen loss: 0.7546991109848022\n",
            "dis loss: 0.7131558656692505\n",
            "gen loss: 0.8571752309799194\n",
            "dis loss: 0.6946596801280975\n",
            "gen loss: 0.7358658313751221\n",
            "dis loss: 0.6491689383983612\n",
            "gen loss: 0.745663583278656\n",
            "dis loss: 0.6252617835998535\n",
            "gen loss: 0.8330923318862915\n",
            "dis loss: 0.6449172496795654\n",
            "gen loss: 0.8859615325927734\n",
            "dis loss: 0.7169037163257599\n",
            "gen loss: 0.6854130029678345\n",
            "dis loss: 0.6071586906909943\n",
            "gen loss: 0.8777140378952026\n",
            "dis loss: 0.6864445209503174\n",
            "gen loss: 0.7184473276138306\n",
            "dis loss: 0.72303107380867\n",
            "gen loss: 0.7664669752120972\n",
            "dis loss: 0.7471792697906494\n",
            "gen loss: 0.7804484367370605\n",
            "dis loss: 0.7025118172168732\n",
            "gen loss: 0.7528972625732422\n",
            "dis loss: 0.6521399915218353\n",
            "gen loss: 0.7354859113693237\n",
            "dis loss: 0.7049353122711182\n",
            "gen loss: 0.9757736325263977\n",
            "dis loss: 0.6672102212905884\n",
            "gen loss: 0.7315471172332764\n",
            "dis loss: 0.6562883853912354\n",
            "gen loss: 0.7868059873580933\n",
            "dis loss: 0.6053104400634766\n",
            "gen loss: 0.8501081466674805\n",
            "dis loss: 0.7028464376926422\n",
            "gen loss: 0.7946704030036926\n",
            "dis loss: 0.6810299754142761\n",
            "gen loss: 0.6927471160888672\n",
            "dis loss: 0.6271608769893646\n",
            "gen loss: 0.7556467652320862\n",
            "dis loss: 0.6792308390140533\n",
            "gen loss: 0.7177298665046692\n",
            "dis loss: 0.6842183470726013\n",
            "gen loss: 1.1551473140716553\n",
            "dis loss: 0.6948298513889313\n",
            "gen loss: 0.7505244016647339\n",
            "dis loss: 0.679633617401123\n",
            "gen loss: 0.6670242547988892\n",
            "dis loss: 0.7077926397323608\n",
            "gen loss: 0.6903053522109985\n",
            "dis loss: 0.6520378291606903\n",
            "gen loss: 0.7054481506347656\n",
            "dis loss: 0.6928143203258514\n",
            "gen loss: 0.69673091173172\n",
            "dis loss: 0.6697907149791718\n",
            "gen loss: 0.8671256303787231\n",
            "dis loss: 0.678124189376831\n",
            "gen loss: 0.8467416763305664\n",
            "dis loss: 0.6942363977432251\n",
            "gen loss: 1.2016074657440186\n",
            "dis loss: 0.6778963506221771\n",
            "gen loss: 0.6746870875358582\n",
            "dis loss: 0.6262742280960083\n",
            "gen loss: 1.0696451663970947\n",
            "dis loss: 0.6773305833339691\n",
            "gen loss: 0.7600027322769165\n",
            "dis loss: 0.6452950835227966\n",
            "gen loss: 1.4073565006256104\n",
            "dis loss: 0.7280943095684052\n",
            "gen loss: 0.7099476456642151\n",
            "dis loss: 0.6891732513904572\n",
            "gen loss: 0.6801244616508484\n",
            "dis loss: 0.5742145776748657\n",
            "gen loss: 1.3820140361785889\n"
          ]
        }
      ]
    },
    {
      "cell_type": "code",
      "metadata": {
        "id": "s0PZtOO7hD-B",
        "colab": {
          "base_uri": "https://localhost:8080/",
          "height": 127
        },
        "outputId": "917f0e6b-36a8-40a8-d881-4566541b1fd7"
      },
      "source": [
        "import matplotlib.pyplot as plt\n",
        "rand = np.random.normal(size=(5, 100))\n",
        "ans = (gen.predict(rand).reshape(5, 28, 28) + 1) / 2\n",
        "# 預測結果讓輸出轉換成0~1\n",
        "\n",
        "plt.figure(figsize=(10, 2))\n",
        "for i in range(5):\n",
        "    plt.subplot(1, 5, i+1)\n",
        "    plt.axis(\"off\")\n",
        "    plt.imshow(ans[i], cmap=\"gray\")"
      ],
      "execution_count": null,
      "outputs": [
        {
          "output_type": "display_data",
          "data": {
            "text/plain": [
              "<Figure size 720x144 with 5 Axes>"
            ],
            "image/png": "[encoded data removed]"
          },
          "metadata": {
            "needs_background": "light"
          }
        }
      ]
    }
  ]
}