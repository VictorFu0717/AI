{
  "nbformat": 4,
  "nbformat_minor": 0,
  "metadata": {
    "colab": {
      "name": "pca.ipynb",
      "private_outputs": true,
      "provenance": [],
      "include_colab_link": true
    },
    "kernelspec": {
      "name": "python3",
      "display_name": "Python 3"
    },
    "language_info": {
      "name": "python"
    }
  },
  "cells": [
    {
      "cell_type": "markdown",
      "metadata": {
        "id": "view-in-github",
        "colab_type": "text"
      },
      "source": [
        "<a href=\"https://colab.research.google.com/github/VictorFu0717/AI/blob/main/pca.ipynb\" target=\"_parent\"><img src=\"https://colab.research.google.com/assets/colab-badge.svg\" alt=\"Open In Colab\"/></a>"
      ]
    },
    {
      "cell_type": "code",
      "metadata": {
        "id": "oFc8erxVDCfa"
      },
      "source": [
        "from tensorflow.keras.datasets.mnist import load_data\n",
        "(x_train, y_train), (x_test, y_test)= load_data()"
      ],
      "execution_count": null,
      "outputs": []
    },
    {
      "cell_type": "code",
      "metadata": {
        "id": "k0DfPGiMxBCd"
      },
      "source": [
        "print(x_train.shape)\n",
        "print(x_test.shape)"
      ],
      "execution_count": null,
      "outputs": []
    },
    {
      "cell_type": "code",
      "metadata": {
        "id": "cH4XOrSjxT6G"
      },
      "source": [
        "import matplotlib.pyplot as plt\n",
        "plt.imshow(x_train[0], cmap=\"gray\")"
      ],
      "execution_count": null,
      "outputs": []
    },
    {
      "cell_type": "code",
      "metadata": {
        "id": "fxEY2Qj_x38z"
      },
      "source": [
        "import pandas as pd\n",
        "pd.DataFrame(x_train[0])"
      ],
      "execution_count": null,
      "outputs": []
    },
    {
      "cell_type": "code",
      "metadata": {
        "id": "vwH6ecxJyP1G"
      },
      "source": [
        "x_train_r = x_train.reshape(-1, 784)\n",
        "x_test_r = x_test.reshape(-1, 784)\n",
        "print(x_train_r.shape)\n",
        "print(x_test_r.shape)"
      ],
      "execution_count": null,
      "outputs": []
    },
    {
      "cell_type": "code",
      "metadata": {
        "id": "67rvs110ziar"
      },
      "source": [
        "\n",
        "# pca是非監督式的降維，欄位與欄位的線性相關消除後再判斷\n",
        "# 深度學習是監督式的降維，有答案做降維效能較好\n",
        "from sklearn.decomposition import PCA\n",
        "pca = PCA(n_components=30)\n",
        "# 只選擇分佈最廣的30個\n",
        "x_train_pca = pca.fit_transform(x_train_r)\n",
        "x_test_pca = pca.transform(x_test_r)"
      ],
      "execution_count": null,
      "outputs": []
    },
    {
      "cell_type": "code",
      "metadata": {
        "id": "CH2FIC9Z1kR6"
      },
      "source": [
        "print(pca.explained_variance_) #lambda\n",
        "print(pca.explained_variance_ratio_) #只留下30個lambda\n",
        "print(sum(pca.explained_variance_ratio_)) #剩下的lambda佔所有的比例"
      ],
      "execution_count": null,
      "outputs": []
    },
    {
      "cell_type": "code",
      "metadata": {
        "id": "eec-SIZu3b19"
      },
      "source": [
        "pd.DataFrame(x_train_pca)"
      ],
      "execution_count": null,
      "outputs": []
    },
    {
      "cell_type": "code",
      "metadata": {
        "id": "j-4Nt6HE3_wo"
      },
      "source": [
        "x_train_pca_inv = pca.inverse_transform(x_train_pca)\n",
        "x_train_pca_inv = x_train_pca_inv.reshape(-1, 28, 28)\n",
        "plt.figure(figsize=(10, 10))\n",
        "for i in range(100):\n",
        "    plt.subplot(10, 10, i+1)\n",
        "    plt.axis(\"off\")\n",
        "    plt.imshow(x_train_pca_inv[i], cmap=\"gray\")"
      ],
      "execution_count": null,
      "outputs": []
    },
    {
      "cell_type": "code",
      "metadata": {
        "id": "m2SAZtY988OE"
      },
      "source": [
        "print(pca.components_.shape)\n",
        "width = 10\n",
        "height = len(pca.components_) // width + 1\n",
        "plt.figure(figsize=(10, 10))\n",
        "for i in range(len(pca.components_)):\n",
        "    plt.subplot(height, width, i+1)\n",
        "    com = pca.components_[i].reshape(28, 28)\n",
        "    plt.axis(\"off\")\n",
        "    plt.title(\"Axis {}\".format(i))\n",
        "    plt.imshow(com)"
      ],
      "execution_count": null,
      "outputs": []
    },
    {
      "cell_type": "code",
      "metadata": {
        "id": "NpUnesFQBdDV"
      },
      "source": [
        "# pca放棄資料調整成二維\n",
        "import seaborn as sns\n",
        "plot = PCA(n_components=2)\n",
        "plot_pca = plot.fit_transform(x_test_r)\n",
        "plt.figure(figsize=(10, 10))\n",
        "sns.scatterplot(plot_pca[:, 0],\n",
        "                plot_pca[:, 1],\n",
        "                hue=y_test,\n",
        "                palette=sns.color_palette(\"hls\", 10))\n"
      ],
      "execution_count": null,
      "outputs": []
    },
    {
      "cell_type": "code",
      "metadata": {
        "id": "mrjsg8bpKbqx"
      },
      "source": [
        "# tsne保持資料調整成二維\n",
        "from sklearn.manifold import TSNE\n",
        "plot = TSNE(n_components=2)\n",
        "x_test_tsne = plot.fit_transform(x_test_r)"
      ],
      "execution_count": null,
      "outputs": []
    },
    {
      "cell_type": "code",
      "metadata": {
        "id": "2YPYw1g9N3GJ"
      },
      "source": [
        "from sklearn.preprocessing import minmax_scale\n",
        "plot_scale = minmax_scale(x_test_tsne)"
      ],
      "execution_count": null,
      "outputs": []
    },
    {
      "cell_type": "code",
      "metadata": {
        "id": "qreXIDyANjCL"
      },
      "source": [
        "plt.figure(figsize=(10, 10))\n",
        "sns.scatterplot(plot_scale[:, 0],\n",
        "                plot_scale[:, 1],\n",
        "                hue=y_test,\n",
        "                palette=sns.color_palette(\"hls\", 10))"
      ],
      "execution_count": null,
      "outputs": []
    }
  ]
}